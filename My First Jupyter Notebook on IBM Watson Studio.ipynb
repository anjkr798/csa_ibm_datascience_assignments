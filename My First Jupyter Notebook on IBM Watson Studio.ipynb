{
    "cells": [
        {
            "metadata": {
                "collapsed": true
            },
            "cell_type": "markdown",
            "source": "<h1>\"My Jupyter Notebook on IBM Watson Studio\"</h1>"
        },
        {
            "metadata": {},
            "cell_type": "markdown",
            "source": "<b>Anjan Das</b><br/>\nSoftware Programmer / Data Science Enthusiast "
        },
        {
            "metadata": {},
            "cell_type": "markdown",
            "source": "*I am interested in Data Science because to learn the concepts and design for data science models and technologies like Python, R, and SQL, Machine learning tools, Visual analytics and so on.*"
        },
        {
            "metadata": {},
            "cell_type": "markdown",
            "source": "<h3>The code in below cell is performing a mathematical calculation using basic basic operators</h3>"
        },
        {
            "metadata": {},
            "cell_type": "code",
            "source": "x=4\ny=7\nz=10\n\nprint(\"x+y+z= \", x+y+z)\nprint(\"x-y+z= \", x-y+z)\nprint(\"x*y*z= \", x*y*z)\nprint(\"x*y/z= \", x*y/z)\nprint(\"x*y+z*x+y^x+z^x= \", x*y+z*x+y^x+z^x)",
            "execution_count": 4,
            "outputs": [
                {
                    "output_type": "stream",
                    "text": "x+y+z=  21\nx-y+z=  7\nx*y*z=  280\nx*y/z=  2.8\nx*y+z*x+y^x+z^x=  65\n",
                    "name": "stdout"
                }
            ]
        },
        {
            "metadata": {},
            "cell_type": "markdown",
            "source": "<h4>Main grading criteria will be:</h4>\n<ul>\n<li>Is the notebook publicly viewable?</li>\n<li>Are there, or does there appear to be, at least 5 Markdown cells and 1 code cell?</li>\n<li>Is the criteria for each cell fulfilled, as described in the \"Guidelines for Submission\"?</li>\n</ul>\n\n**Will not be judged on:**\n<ol>\n<li>Your English language</li>\n<li>The content of any text or image(s) or where a link is hyperlinked to</li>\n</ol>\n\n<p style=\"color:blue;\"><i><u>`Thank You So Much!`</u></i></p>"
        },
        {
            "metadata": {},
            "cell_type": "code",
            "source": "",
            "execution_count": null,
            "outputs": []
        }
    ],
    "metadata": {
        "kernelspec": {
            "name": "python3",
            "display_name": "Python 3.6",
            "language": "python"
        },
        "language_info": {
            "name": "python",
            "version": "3.6.9",
            "mimetype": "text/x-python",
            "codemirror_mode": {
                "name": "ipython",
                "version": 3
            },
            "pygments_lexer": "ipython3",
            "nbconvert_exporter": "python",
            "file_extension": ".py"
        }
    },
    "nbformat": 4,
    "nbformat_minor": 1
}