{
    "cells": [
        {
            "metadata": {},
            "cell_type": "markdown",
            "source": "# The Battle of the Neighborhoods - Week 1 - Section 1"
        },
        {
            "metadata": {},
            "cell_type": "markdown",
            "source": "## Introduction & Business Problem"
        },
        {
            "metadata": {},
            "cell_type": "markdown",
            "source": "### Background of the Problem:"
        },
        {
            "metadata": {},
            "cell_type": "markdown",
            "source": "<i>Case Study :</i> Identify less explored market opportunities to start a new restaurant business in New York city."
        },
        {
            "metadata": {},
            "cell_type": "markdown",
            "source": "The New York City, is the most populous city in the United States. It is diverse and is the financial capital of USA. It is multicultural. It provides lot of business oppourtunities and business friendly environment. It has attracted many different players into the market. It is a global hub of business and commerce. The city is a major center for banking and finance, retailing, world trade, transportation, tourism, real estate, new media, traditional media, advertising, legal services, accountancy, insurance, theater, fashion, and the arts in the United States.\n\nThis also means that the market is highly competitive. As it is highly developed city so cost of doing business is also one of the highest. Thus, any new business venture or expansion needs to be analysed carefully. The insights derived from analysis will give good understanding of the business environment which help in strategically targeting the market. This will help in reduction of risk. And the Return on Investment will be reasonable."
        },
        {
            "metadata": {},
            "cell_type": "markdown",
            "source": "### Problem Description:"
        },
        {
            "metadata": {},
            "cell_type": "markdown",
            "source": "A restaurant is a business which prepares and serves food and drink to customers in return for money, either paid before the meal, after the meal, or with an open account. The City of New York is famous for its excelllent cuisine. It's food culture includes an array of international cuisines influenced by the city's immigrant history.\n\nCentral and Eastern European immigrants, especially Jewish immigrants - bagels, cheesecake, hot dogs, knishes, and delicatessens\nItalian immigrants - New York-style pizza and Italian cuisine\nJewish immigrants and Irish immigrants - pastrami and corned beef\nChinese and other Asian restaurants, sandwich joints, trattorias, diners, and coffeehouses are ubiquitous throughout the city\nmobile food vendors - Some 4,000 licensed by the city\nMiddle Eastern foods such as falafel and kebabs examples of modern New York street food\nIt is famous for not just Pizzerias, Cafe's but also for fine dining Michelin starred restaurants.The city is home to \"nearly one thousand of the finest and most diverse haute cuisine restaurants in the world\", according to Michelin.\nSo it is evident that to survive in such competitive market it is very important to startegically plan. Various factors need to be studied inorder to decide on the Location such as :\n\nNew York Population\nNew York City Demographics\nAre there any Farmers Markets, Wholesale markets etc nearby so that the ingredients can be purchased fresh to maintain quality and cost?\nAre there any venues like Gyms, Entertainmnet zones, Parks etc nearby where floating population is high etc\nWho are the competitors in that location?\nCuisine served / Menu of the competitors\nSegmentation of the Borough\nUntapped markets\nSaturated markets etc\nThe list can go on...\nEventhough well funded XYZ Company Ltd. need to choose the correct location to start its first venture.If this is successful they can replicate the same in other locations. First move is very important, thereby choice of location is very important."
        },
        {
            "metadata": {},
            "cell_type": "markdown",
            "source": "### Target Audience:"
        },
        {
            "metadata": {},
            "cell_type": "markdown",
            "source": "To recommend the correct location, XYZ Company Ltd has appointed me to lead of the Data Science team. The objective is to locate and recommend to the management which neighborhood of Newyork city will be best choice to start a restaurant. The Management also expects to understand the rationale of the recommendations made.\n\nThis would interest anyone who wants to start a new restaurant in Newyork city."
        },
        {
            "metadata": {},
            "cell_type": "markdown",
            "source": "### Success Criteria:"
        },
        {
            "metadata": {},
            "cell_type": "markdown",
            "source": "The success criteria of the project will be a good recommendation of borough/Neighborhood choice to XYZ Company Ltd based on Lack of such restaurants in that location and nearest suppliers of ingredients."
        }
    ],
    "metadata": {
        "kernelspec": {
            "name": "python3",
            "display_name": "Python 3.6",
            "language": "python"
        },
        "language_info": {
            "name": "python",
            "version": "3.6.9",
            "mimetype": "text/x-python",
            "codemirror_mode": {
                "name": "ipython",
                "version": 3
            },
            "pygments_lexer": "ipython3",
            "nbconvert_exporter": "python",
            "file_extension": ".py"
        }
    },
    "nbformat": 4,
    "nbformat_minor": 1
}