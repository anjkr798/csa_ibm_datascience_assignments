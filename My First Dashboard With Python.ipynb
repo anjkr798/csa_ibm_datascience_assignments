{
    "cells": [
        {
            "metadata": {},
            "cell_type": "markdown",
            "source": "<a><img src=\"https://ibm.box.com/shared/static/ugcqz6ohbvff804xp84y4kqnvvk3bq1g.png\" width=\"200\" align=\"center\"></a>"
        },
        {
            "metadata": {},
            "cell_type": "markdown",
            "source": "<h1>Analyzing US Economic Data and  Building a Dashboard  </h1>\n<h2>Description</h2>\n"
        },
        {
            "metadata": {},
            "cell_type": "markdown",
            "source": "Extracting essential data from a dataset and displaying it is a necessary part of data science; therefore individuals can make correct decisions based on the data. In this assignment, you will extract some essential economic indicators from some data, you will then display these economic indicators in a Dashboard. You can then share the dashboard via an URL.\n<p>\n<a href=\"https://en.wikipedia.org/wiki/Gross_domestic_product\"> Gross domestic product (GDP)</a> is a measure of the market value of all the final goods and services produced in a period. GDP is an indicator of how well the economy is doing. A drop in GDP indicates the economy is producing less; similarly an increase in GDP suggests the economy is performing better. In this lab, you will examine how changes in GDP impact the unemployment rate. You will take screen shots of every step, you will share the notebook and the URL pointing to the dashboard.</p>"
        },
        {
            "metadata": {},
            "cell_type": "markdown",
            "source": "<h2>Table of Contents</h2>\n<div class=\"alert alert-block alert-info\" style=\"margin-top: 20px\">\n    <ul>\n        <li><a href=\"#Section_1\"> Define a Function that Makes a Dashboard </a></li>\n    <li><a href=\"#Section_2\">Question 1: Create a dataframe that contains the GDP data and display it</a> </li>\n    <li><a href=\"#Section_3\">Question 2: Create a dataframe that contains the unemployment data and display it</a></li>\n    <li><a href=\"#Section_4\">Question 3: Display a dataframe where unemployment was greater than 8.5%</a></li>\n    <li><a href=\"#Section_5\">Question 4: Use the function make_dashboard to make a dashboard</a></li>\n        <li><a href=\"#Section_6\"><b>(Optional not marked)</b> Save the dashboard on IBM cloud and display it</a></li>\n    </ul>\n<p>\n    Estimated Time Needed: <strong>180 min</strong></p>\n</div>\n\n<hr>"
        },
        {
            "metadata": {},
            "cell_type": "markdown",
            "source": "<h2 id=\"Section_1\"> Define Function that Makes a Dashboard  </h2>"
        },
        {
            "metadata": {},
            "cell_type": "markdown",
            "source": "We will import the following libraries."
        },
        {
            "metadata": {
                "scrolled": true
            },
            "cell_type": "code",
            "source": "import pandas as pd\nfrom bokeh.plotting import figure, output_file, show,output_notebook\noutput_notebook()",
            "execution_count": 7,
            "outputs": [
                {
                    "output_type": "display_data",
                    "data": {
                        "text/html": "\n    <div class=\"bk-root\">\n        <a href=\"https://bokeh.pydata.org\" target=\"_blank\" class=\"bk-logo bk-logo-small bk-logo-notebook\"></a>\n        <span id=\"1002\">Loading BokehJS ...</span>\n    </div>"
                    },
                    "metadata": {}
                },
                {
                    "output_type": "display_data",
                    "data": {
                        "application/javascript": "\n(function(root) {\n  function now() {\n    return new Date();\n  }\n\n  var force = true;\n\n  if (typeof (root._bokeh_onload_callbacks) === \"undefined\" || force === true) {\n    root._bokeh_onload_callbacks = [];\n    root._bokeh_is_loading = undefined;\n  }\n\n  var JS_MIME_TYPE = 'application/javascript';\n  var HTML_MIME_TYPE = 'text/html';\n  var EXEC_MIME_TYPE = 'application/vnd.bokehjs_exec.v0+json';\n  var CLASS_NAME = 'output_bokeh rendered_html';\n\n  /**\n   * Render data to the DOM node\n   */\n  function render(props, node) {\n    var script = document.createElement(\"script\");\n    node.appendChild(script);\n  }\n\n  /**\n   * Handle when an output is cleared or removed\n   */\n  function handleClearOutput(event, handle) {\n    var cell = handle.cell;\n\n    var id = cell.output_area._bokeh_element_id;\n    var server_id = cell.output_area._bokeh_server_id;\n    // Clean up Bokeh references\n    if (id != null && id in Bokeh.index) {\n      Bokeh.index[id].model.document.clear();\n      delete Bokeh.index[id];\n    }\n\n    if (server_id !== undefined) {\n      // Clean up Bokeh references\n      var cmd = \"from bokeh.io.state import curstate; print(curstate().uuid_to_server['\" + server_id + \"'].get_sessions()[0].document.roots[0]._id)\";\n      cell.notebook.kernel.execute(cmd, {\n        iopub: {\n          output: function(msg) {\n            var id = msg.content.text.trim();\n            if (id in Bokeh.index) {\n              Bokeh.index[id].model.document.clear();\n              delete Bokeh.index[id];\n            }\n          }\n        }\n      });\n      // Destroy server and session\n      var cmd = \"import bokeh.io.notebook as ion; ion.destroy_server('\" + server_id + \"')\";\n      cell.notebook.kernel.execute(cmd);\n    }\n  }\n\n  /**\n   * Handle when a new output is added\n   */\n  function handleAddOutput(event, handle) {\n    var output_area = handle.output_area;\n    var output = handle.output;\n\n    // limit handleAddOutput to display_data with EXEC_MIME_TYPE content only\n    if ((output.output_type != \"display_data\") || (!output.data.hasOwnProperty(EXEC_MIME_TYPE))) {\n      return\n    }\n\n    var toinsert = output_area.element.find(\".\" + CLASS_NAME.split(' ')[0]);\n\n    if (output.metadata[EXEC_MIME_TYPE][\"id\"] !== undefined) {\n      toinsert[toinsert.length - 1].firstChild.textContent = output.data[JS_MIME_TYPE];\n      // store reference to embed id on output_area\n      output_area._bokeh_element_id = output.metadata[EXEC_MIME_TYPE][\"id\"];\n    }\n    if (output.metadata[EXEC_MIME_TYPE][\"server_id\"] !== undefined) {\n      var bk_div = document.createElement(\"div\");\n      bk_div.innerHTML = output.data[HTML_MIME_TYPE];\n      var script_attrs = bk_div.children[0].attributes;\n      for (var i = 0; i < script_attrs.length; i++) {\n        toinsert[toinsert.length - 1].firstChild.setAttribute(script_attrs[i].name, script_attrs[i].value);\n      }\n      // store reference to server id on output_area\n      output_area._bokeh_server_id = output.metadata[EXEC_MIME_TYPE][\"server_id\"];\n    }\n  }\n\n  function register_renderer(events, OutputArea) {\n\n    function append_mime(data, metadata, element) {\n      // create a DOM node to render to\n      var toinsert = this.create_output_subarea(\n        metadata,\n        CLASS_NAME,\n        EXEC_MIME_TYPE\n      );\n      this.keyboard_manager.register_events(toinsert);\n      // Render to node\n      var props = {data: data, metadata: metadata[EXEC_MIME_TYPE]};\n      render(props, toinsert[toinsert.length - 1]);\n      element.append(toinsert);\n      return toinsert\n    }\n\n    /* Handle when an output is cleared or removed */\n    events.on('clear_output.CodeCell', handleClearOutput);\n    events.on('delete.Cell', handleClearOutput);\n\n    /* Handle when a new output is added */\n    events.on('output_added.OutputArea', handleAddOutput);\n\n    /**\n     * Register the mime type and append_mime function with output_area\n     */\n    OutputArea.prototype.register_mime_type(EXEC_MIME_TYPE, append_mime, {\n      /* Is output safe? */\n      safe: true,\n      /* Index of renderer in `output_area.display_order` */\n      index: 0\n    });\n  }\n\n  // register the mime type if in Jupyter Notebook environment and previously unregistered\n  if (root.Jupyter !== undefined) {\n    var events = require('base/js/events');\n    var OutputArea = require('notebook/js/outputarea').OutputArea;\n\n    if (OutputArea.prototype.mime_types().indexOf(EXEC_MIME_TYPE) == -1) {\n      register_renderer(events, OutputArea);\n    }\n  }\n\n  \n  if (typeof (root._bokeh_timeout) === \"undefined\" || force === true) {\n    root._bokeh_timeout = Date.now() + 5000;\n    root._bokeh_failed_load = false;\n  }\n\n  var NB_LOAD_WARNING = {'data': {'text/html':\n     \"<div style='background-color: #fdd'>\\n\"+\n     \"<p>\\n\"+\n     \"BokehJS does not appear to have successfully loaded. If loading BokehJS from CDN, this \\n\"+\n     \"may be due to a slow or bad network connection. Possible fixes:\\n\"+\n     \"</p>\\n\"+\n     \"<ul>\\n\"+\n     \"<li>re-rerun `output_notebook()` to attempt to load from CDN again, or</li>\\n\"+\n     \"<li>use INLINE resources instead, as so:</li>\\n\"+\n     \"</ul>\\n\"+\n     \"<code>\\n\"+\n     \"from bokeh.resources import INLINE\\n\"+\n     \"output_notebook(resources=INLINE)\\n\"+\n     \"</code>\\n\"+\n     \"</div>\"}};\n\n  function display_loaded() {\n    var el = document.getElementById(\"1002\");\n    if (el != null) {\n      el.textContent = \"BokehJS is loading...\";\n    }\n    if (root.Bokeh !== undefined) {\n      if (el != null) {\n        el.textContent = \"BokehJS \" + root.Bokeh.version + \" successfully loaded.\";\n      }\n    } else if (Date.now() < root._bokeh_timeout) {\n      setTimeout(display_loaded, 100)\n    }\n  }\n\n\n  function run_callbacks() {\n    try {\n      root._bokeh_onload_callbacks.forEach(function(callback) { callback() });\n    }\n    finally {\n      delete root._bokeh_onload_callbacks\n    }\n    console.info(\"Bokeh: all callbacks have finished\");\n  }\n\n  function load_libs(js_urls, callback) {\n    root._bokeh_onload_callbacks.push(callback);\n    if (root._bokeh_is_loading > 0) {\n      console.log(\"Bokeh: BokehJS is being loaded, scheduling callback at\", now());\n      return null;\n    }\n    if (js_urls == null || js_urls.length === 0) {\n      run_callbacks();\n      return null;\n    }\n    console.log(\"Bokeh: BokehJS not loaded, scheduling load and callback at\", now());\n    root._bokeh_is_loading = js_urls.length;\n    for (var i = 0; i < js_urls.length; i++) {\n      var url = js_urls[i];\n      var s = document.createElement('script');\n      s.src = url;\n      s.async = false;\n      s.onreadystatechange = s.onload = function() {\n        root._bokeh_is_loading--;\n        if (root._bokeh_is_loading === 0) {\n          console.log(\"Bokeh: all BokehJS libraries loaded\");\n          run_callbacks()\n        }\n      };\n      s.onerror = function() {\n        console.warn(\"failed to load library \" + url);\n      };\n      console.log(\"Bokeh: injecting script tag for BokehJS library: \", url);\n      document.getElementsByTagName(\"head\")[0].appendChild(s);\n    }\n  };var element = document.getElementById(\"1002\");\n  if (element == null) {\n    console.log(\"Bokeh: ERROR: autoload.js configured with elementid '1002' but no matching script tag was found. \")\n    return false;\n  }\n\n  var js_urls = [\"https://cdn.pydata.org/bokeh/release/bokeh-1.0.4.min.js\", \"https://cdn.pydata.org/bokeh/release/bokeh-widgets-1.0.4.min.js\", \"https://cdn.pydata.org/bokeh/release/bokeh-tables-1.0.4.min.js\", \"https://cdn.pydata.org/bokeh/release/bokeh-gl-1.0.4.min.js\"];\n\n  var inline_js = [\n    function(Bokeh) {\n      Bokeh.set_log_level(\"info\");\n    },\n    \n    function(Bokeh) {\n      \n    },\n    function(Bokeh) {\n      console.log(\"Bokeh: injecting CSS: https://cdn.pydata.org/bokeh/release/bokeh-1.0.4.min.css\");\n      Bokeh.embed.inject_css(\"https://cdn.pydata.org/bokeh/release/bokeh-1.0.4.min.css\");\n      console.log(\"Bokeh: injecting CSS: https://cdn.pydata.org/bokeh/release/bokeh-widgets-1.0.4.min.css\");\n      Bokeh.embed.inject_css(\"https://cdn.pydata.org/bokeh/release/bokeh-widgets-1.0.4.min.css\");\n      console.log(\"Bokeh: injecting CSS: https://cdn.pydata.org/bokeh/release/bokeh-tables-1.0.4.min.css\");\n      Bokeh.embed.inject_css(\"https://cdn.pydata.org/bokeh/release/bokeh-tables-1.0.4.min.css\");\n    }\n  ];\n\n  function run_inline_js() {\n    \n    if ((root.Bokeh !== undefined) || (force === true)) {\n      for (var i = 0; i < inline_js.length; i++) {\n        inline_js[i].call(root, root.Bokeh);\n      }if (force === true) {\n        display_loaded();\n      }} else if (Date.now() < root._bokeh_timeout) {\n      setTimeout(run_inline_js, 100);\n    } else if (!root._bokeh_failed_load) {\n      console.log(\"Bokeh: BokehJS failed to load within specified timeout.\");\n      root._bokeh_failed_load = true;\n    } else if (force !== true) {\n      var cell = $(document.getElementById(\"1002\")).parents('.cell').data().cell;\n      cell.output_area.append_execute_result(NB_LOAD_WARNING)\n    }\n\n  }\n\n  if (root._bokeh_is_loading === 0) {\n    console.log(\"Bokeh: BokehJS loaded, going straight to plotting\");\n    run_inline_js();\n  } else {\n    load_libs(js_urls, function() {\n      console.log(\"Bokeh: BokehJS plotting callback run at\", now());\n      run_inline_js();\n    });\n  }\n}(window));",
                        "application/vnd.bokehjs_load.v0+json": "\n(function(root) {\n  function now() {\n    return new Date();\n  }\n\n  var force = true;\n\n  if (typeof (root._bokeh_onload_callbacks) === \"undefined\" || force === true) {\n    root._bokeh_onload_callbacks = [];\n    root._bokeh_is_loading = undefined;\n  }\n\n  \n\n  \n  if (typeof (root._bokeh_timeout) === \"undefined\" || force === true) {\n    root._bokeh_timeout = Date.now() + 5000;\n    root._bokeh_failed_load = false;\n  }\n\n  var NB_LOAD_WARNING = {'data': {'text/html':\n     \"<div style='background-color: #fdd'>\\n\"+\n     \"<p>\\n\"+\n     \"BokehJS does not appear to have successfully loaded. If loading BokehJS from CDN, this \\n\"+\n     \"may be due to a slow or bad network connection. Possible fixes:\\n\"+\n     \"</p>\\n\"+\n     \"<ul>\\n\"+\n     \"<li>re-rerun `output_notebook()` to attempt to load from CDN again, or</li>\\n\"+\n     \"<li>use INLINE resources instead, as so:</li>\\n\"+\n     \"</ul>\\n\"+\n     \"<code>\\n\"+\n     \"from bokeh.resources import INLINE\\n\"+\n     \"output_notebook(resources=INLINE)\\n\"+\n     \"</code>\\n\"+\n     \"</div>\"}};\n\n  function display_loaded() {\n    var el = document.getElementById(\"1002\");\n    if (el != null) {\n      el.textContent = \"BokehJS is loading...\";\n    }\n    if (root.Bokeh !== undefined) {\n      if (el != null) {\n        el.textContent = \"BokehJS \" + root.Bokeh.version + \" successfully loaded.\";\n      }\n    } else if (Date.now() < root._bokeh_timeout) {\n      setTimeout(display_loaded, 100)\n    }\n  }\n\n\n  function run_callbacks() {\n    try {\n      root._bokeh_onload_callbacks.forEach(function(callback) { callback() });\n    }\n    finally {\n      delete root._bokeh_onload_callbacks\n    }\n    console.info(\"Bokeh: all callbacks have finished\");\n  }\n\n  function load_libs(js_urls, callback) {\n    root._bokeh_onload_callbacks.push(callback);\n    if (root._bokeh_is_loading > 0) {\n      console.log(\"Bokeh: BokehJS is being loaded, scheduling callback at\", now());\n      return null;\n    }\n    if (js_urls == null || js_urls.length === 0) {\n      run_callbacks();\n      return null;\n    }\n    console.log(\"Bokeh: BokehJS not loaded, scheduling load and callback at\", now());\n    root._bokeh_is_loading = js_urls.length;\n    for (var i = 0; i < js_urls.length; i++) {\n      var url = js_urls[i];\n      var s = document.createElement('script');\n      s.src = url;\n      s.async = false;\n      s.onreadystatechange = s.onload = function() {\n        root._bokeh_is_loading--;\n        if (root._bokeh_is_loading === 0) {\n          console.log(\"Bokeh: all BokehJS libraries loaded\");\n          run_callbacks()\n        }\n      };\n      s.onerror = function() {\n        console.warn(\"failed to load library \" + url);\n      };\n      console.log(\"Bokeh: injecting script tag for BokehJS library: \", url);\n      document.getElementsByTagName(\"head\")[0].appendChild(s);\n    }\n  };var element = document.getElementById(\"1002\");\n  if (element == null) {\n    console.log(\"Bokeh: ERROR: autoload.js configured with elementid '1002' but no matching script tag was found. \")\n    return false;\n  }\n\n  var js_urls = [\"https://cdn.pydata.org/bokeh/release/bokeh-1.0.4.min.js\", \"https://cdn.pydata.org/bokeh/release/bokeh-widgets-1.0.4.min.js\", \"https://cdn.pydata.org/bokeh/release/bokeh-tables-1.0.4.min.js\", \"https://cdn.pydata.org/bokeh/release/bokeh-gl-1.0.4.min.js\"];\n\n  var inline_js = [\n    function(Bokeh) {\n      Bokeh.set_log_level(\"info\");\n    },\n    \n    function(Bokeh) {\n      \n    },\n    function(Bokeh) {\n      console.log(\"Bokeh: injecting CSS: https://cdn.pydata.org/bokeh/release/bokeh-1.0.4.min.css\");\n      Bokeh.embed.inject_css(\"https://cdn.pydata.org/bokeh/release/bokeh-1.0.4.min.css\");\n      console.log(\"Bokeh: injecting CSS: https://cdn.pydata.org/bokeh/release/bokeh-widgets-1.0.4.min.css\");\n      Bokeh.embed.inject_css(\"https://cdn.pydata.org/bokeh/release/bokeh-widgets-1.0.4.min.css\");\n      console.log(\"Bokeh: injecting CSS: https://cdn.pydata.org/bokeh/release/bokeh-tables-1.0.4.min.css\");\n      Bokeh.embed.inject_css(\"https://cdn.pydata.org/bokeh/release/bokeh-tables-1.0.4.min.css\");\n    }\n  ];\n\n  function run_inline_js() {\n    \n    if ((root.Bokeh !== undefined) || (force === true)) {\n      for (var i = 0; i < inline_js.length; i++) {\n        inline_js[i].call(root, root.Bokeh);\n      }if (force === true) {\n        display_loaded();\n      }} else if (Date.now() < root._bokeh_timeout) {\n      setTimeout(run_inline_js, 100);\n    } else if (!root._bokeh_failed_load) {\n      console.log(\"Bokeh: BokehJS failed to load within specified timeout.\");\n      root._bokeh_failed_load = true;\n    } else if (force !== true) {\n      var cell = $(document.getElementById(\"1002\")).parents('.cell').data().cell;\n      cell.output_area.append_execute_result(NB_LOAD_WARNING)\n    }\n\n  }\n\n  if (root._bokeh_is_loading === 0) {\n    console.log(\"Bokeh: BokehJS loaded, going straight to plotting\");\n    run_inline_js();\n  } else {\n    load_libs(js_urls, function() {\n      console.log(\"Bokeh: BokehJS plotting callback run at\", now());\n      run_inline_js();\n    });\n  }\n}(window));"
                    },
                    "metadata": {}
                }
            ]
        },
        {
            "metadata": {},
            "cell_type": "markdown",
            "source": "In this section, we define the function <code>make_dashboard</code>. \nYou don't have to know how the function works, you should only care about the inputs. The function will produce a dashboard as well as an html file. You can then use this html file to share your dashboard. If you do not know what an html file is don't worry everything you need to know will be provided in the lab. "
        },
        {
            "metadata": {},
            "cell_type": "code",
            "source": "def make_dashboard(x, gdp_change, unemployment, title, file_name):\n    output_file(file_name)\n    p = figure(title=title, x_axis_label='year', y_axis_label='%')\n    p.line(x.squeeze(), gdp_change.squeeze(), color=\"firebrick\", line_width=4, legend=\"% GDP change\")\n    p.line(x.squeeze(), unemployment.squeeze(), line_width=4, legend=\"% unemployed\")\n    show(p)",
            "execution_count": 5,
            "outputs": []
        },
        {
            "metadata": {},
            "cell_type": "markdown",
            "source": "The dictionary  <code>links</code> contain the CSV files with all the data. The value for the key <code>GDP</code> is the file that contains the GDP data. The value for the key <code>unemployment</code> contains the unemployment data."
        },
        {
            "metadata": {},
            "cell_type": "code",
            "source": "links={'GDP':'https://s3-api.us-geo.objectstorage.softlayer.net/cf-courses-data/CognitiveClass/PY0101EN/projects/coursera_project/clean_gdp.csv',\\\n       'unemployment':'https://s3-api.us-geo.objectstorage.softlayer.net/cf-courses-data/CognitiveClass/PY0101EN/projects/coursera_project/clean_unemployment.csv'}",
            "execution_count": 8,
            "outputs": []
        },
        {
            "metadata": {},
            "cell_type": "markdown",
            "source": "<h3 id=\"Section_2\"> Question 1: Create a dataframe that contains the GDP data and display the first five rows of the dataframe.</h3>"
        },
        {
            "metadata": {},
            "cell_type": "markdown",
            "source": "Use the dictionary <code>links</code> and the function <code>pd.read_csv</code> to create a Pandas dataframes that contains the GDP data."
        },
        {
            "metadata": {},
            "cell_type": "markdown",
            "source": "<b>Hint: <code>links[\"GDP\"]</code> contains the path or name of the file.</b>"
        },
        {
            "metadata": {},
            "cell_type": "code",
            "source": "pd.read_csv(links[\"GDP\"])",
            "execution_count": 10,
            "outputs": [
                {
                    "output_type": "execute_result",
                    "execution_count": 10,
                    "data": {
                        "text/plain": "    date  level-current  level-chained  change-current  change-chained\n0   1948          274.8         2020.0            -0.7            -0.6\n1   1949          272.8         2008.9            10.0             8.7\n2   1950          300.2         2184.0            15.7             8.0\n3   1951          347.3         2360.0             5.9             4.1\n4   1952          367.7         2456.1             6.0             4.7\n5   1953          389.7         2571.4             0.3            -0.6\n6   1954          391.1         2556.9             8.9             7.1\n7   1955          426.2         2739.0             5.6             2.1\n8   1956          450.1         2797.4             5.5             2.1\n9   1957          474.9         2856.3             1.5            -0.7\n10  1958          482.0         2835.3             8.4             6.9\n11  1959          522.5         3031.0             4.0             2.6\n12  1960          543.3         3108.7             3.7             2.6\n13  1961          563.3         3188.1             7.4             6.1\n14  1962          605.1         3383.1             5.6             4.4\n15  1963          638.6         3530.4             7.4             5.8\n16  1964          685.8         3734.0             8.4             6.5\n17  1965          743.7         3976.7             9.6             6.6\n18  1966          815.0         4238.9             5.7             2.7\n19  1967          861.7         4355.2             9.4             4.9\n20  1968          942.5         4569.0             8.2             3.1\n21  1969         1019.9         4712.5             5.5             0.2\n22  1970         1075.9         4722.0             8.5             3.3\n23  1971         1167.8         4877.6             9.8             5.3\n24  1972         1282.4         5134.3            11.4             5.6\n25  1973         1428.5         5424.1             8.4            -0.5\n26  1974         1548.8         5396.0             9.0            -0.2\n27  1975         1688.9         5385.4            11.2             5.4\n28  1976         1877.6         5675.4            11.1             4.6\n29  1977         2086.0         5937.0            13.0             5.5\n..   ...            ...            ...             ...             ...\n39  1987         4870.2         8132.6             7.9             4.2\n40  1988         5252.6         8474.5             7.7             3.7\n41  1989         5657.7         8786.4             5.7             1.9\n42  1990         5979.6         8955.0             3.3            -0.1\n43  1991         6174.0         8948.4             5.9             3.5\n44  1992         6539.3         9266.6             5.2             2.8\n45  1993         6878.7         9521.0             6.3             4.0\n46  1994         7308.8         9905.4             4.8             2.7\n47  1995         7664.1        10174.8             5.7             3.8\n48  1996         8100.2        10561.0             6.2             4.4\n49  1997         8608.5        11034.9             5.7             4.5\n50  1998         9089.2        11525.9             6.3             4.8\n51  1999         9660.6        12065.9             6.5             4.1\n52  2000        10284.8        12559.7             3.2             1.0\n53  2001        10621.8        12682.2             3.4             1.7\n54  2002        10977.5        12908.8             4.8             2.9\n55  2003        11510.7        13271.1             6.6             3.8\n56  2004        12274.9        13773.5             6.7             3.5\n57  2005        13093.7        14234.2             6.0             2.9\n58  2006        13855.9        14613.8             4.6             1.9\n59  2007        14477.6        14873.7             1.8            -0.1\n60  2008        14718.6        14830.4            -1.8            -2.5\n61  2009        14418.7        14418.7             3.8             2.6\n62  2010        14964.4        14783.8             3.7             1.6\n63  2011        15517.9        15020.6             4.2             2.2\n64  2012        16155.3        15354.6             3.6             1.8\n65  2013        16691.5        15612.2             4.4             2.5\n66  2014        17427.6        16013.3             4.0             2.9\n67  2015        18120.7        16471.5             2.7             1.6\n68  2016        18624.5        16716.2             4.2             2.2\n\n[69 rows x 5 columns]",
                        "text/html": "<div>\n<style scoped>\n    .dataframe tbody tr th:only-of-type {\n        vertical-align: middle;\n    }\n\n    .dataframe tbody tr th {\n        vertical-align: top;\n    }\n\n    .dataframe thead th {\n        text-align: right;\n    }\n</style>\n<table border=\"1\" class=\"dataframe\">\n  <thead>\n    <tr style=\"text-align: right;\">\n      <th></th>\n      <th>date</th>\n      <th>level-current</th>\n      <th>level-chained</th>\n      <th>change-current</th>\n      <th>change-chained</th>\n    </tr>\n  </thead>\n  <tbody>\n    <tr>\n      <th>0</th>\n      <td>1948</td>\n      <td>274.8</td>\n      <td>2020.0</td>\n      <td>-0.7</td>\n      <td>-0.6</td>\n    </tr>\n    <tr>\n      <th>1</th>\n      <td>1949</td>\n      <td>272.8</td>\n      <td>2008.9</td>\n      <td>10.0</td>\n      <td>8.7</td>\n    </tr>\n    <tr>\n      <th>2</th>\n      <td>1950</td>\n      <td>300.2</td>\n      <td>2184.0</td>\n      <td>15.7</td>\n      <td>8.0</td>\n    </tr>\n    <tr>\n      <th>3</th>\n      <td>1951</td>\n      <td>347.3</td>\n      <td>2360.0</td>\n      <td>5.9</td>\n      <td>4.1</td>\n    </tr>\n    <tr>\n      <th>4</th>\n      <td>1952</td>\n      <td>367.7</td>\n      <td>2456.1</td>\n      <td>6.0</td>\n      <td>4.7</td>\n    </tr>\n    <tr>\n      <th>5</th>\n      <td>1953</td>\n      <td>389.7</td>\n      <td>2571.4</td>\n      <td>0.3</td>\n      <td>-0.6</td>\n    </tr>\n    <tr>\n      <th>6</th>\n      <td>1954</td>\n      <td>391.1</td>\n      <td>2556.9</td>\n      <td>8.9</td>\n      <td>7.1</td>\n    </tr>\n    <tr>\n      <th>7</th>\n      <td>1955</td>\n      <td>426.2</td>\n      <td>2739.0</td>\n      <td>5.6</td>\n      <td>2.1</td>\n    </tr>\n    <tr>\n      <th>8</th>\n      <td>1956</td>\n      <td>450.1</td>\n      <td>2797.4</td>\n      <td>5.5</td>\n      <td>2.1</td>\n    </tr>\n    <tr>\n      <th>9</th>\n      <td>1957</td>\n      <td>474.9</td>\n      <td>2856.3</td>\n      <td>1.5</td>\n      <td>-0.7</td>\n    </tr>\n    <tr>\n      <th>10</th>\n      <td>1958</td>\n      <td>482.0</td>\n      <td>2835.3</td>\n      <td>8.4</td>\n      <td>6.9</td>\n    </tr>\n    <tr>\n      <th>11</th>\n      <td>1959</td>\n      <td>522.5</td>\n      <td>3031.0</td>\n      <td>4.0</td>\n      <td>2.6</td>\n    </tr>\n    <tr>\n      <th>12</th>\n      <td>1960</td>\n      <td>543.3</td>\n      <td>3108.7</td>\n      <td>3.7</td>\n      <td>2.6</td>\n    </tr>\n    <tr>\n      <th>13</th>\n      <td>1961</td>\n      <td>563.3</td>\n      <td>3188.1</td>\n      <td>7.4</td>\n      <td>6.1</td>\n    </tr>\n    <tr>\n      <th>14</th>\n      <td>1962</td>\n      <td>605.1</td>\n      <td>3383.1</td>\n      <td>5.6</td>\n      <td>4.4</td>\n    </tr>\n    <tr>\n      <th>15</th>\n      <td>1963</td>\n      <td>638.6</td>\n      <td>3530.4</td>\n      <td>7.4</td>\n      <td>5.8</td>\n    </tr>\n    <tr>\n      <th>16</th>\n      <td>1964</td>\n      <td>685.8</td>\n      <td>3734.0</td>\n      <td>8.4</td>\n      <td>6.5</td>\n    </tr>\n    <tr>\n      <th>17</th>\n      <td>1965</td>\n      <td>743.7</td>\n      <td>3976.7</td>\n      <td>9.6</td>\n      <td>6.6</td>\n    </tr>\n    <tr>\n      <th>18</th>\n      <td>1966</td>\n      <td>815.0</td>\n      <td>4238.9</td>\n      <td>5.7</td>\n      <td>2.7</td>\n    </tr>\n    <tr>\n      <th>19</th>\n      <td>1967</td>\n      <td>861.7</td>\n      <td>4355.2</td>\n      <td>9.4</td>\n      <td>4.9</td>\n    </tr>\n    <tr>\n      <th>20</th>\n      <td>1968</td>\n      <td>942.5</td>\n      <td>4569.0</td>\n      <td>8.2</td>\n      <td>3.1</td>\n    </tr>\n    <tr>\n      <th>21</th>\n      <td>1969</td>\n      <td>1019.9</td>\n      <td>4712.5</td>\n      <td>5.5</td>\n      <td>0.2</td>\n    </tr>\n    <tr>\n      <th>22</th>\n      <td>1970</td>\n      <td>1075.9</td>\n      <td>4722.0</td>\n      <td>8.5</td>\n      <td>3.3</td>\n    </tr>\n    <tr>\n      <th>23</th>\n      <td>1971</td>\n      <td>1167.8</td>\n      <td>4877.6</td>\n      <td>9.8</td>\n      <td>5.3</td>\n    </tr>\n    <tr>\n      <th>24</th>\n      <td>1972</td>\n      <td>1282.4</td>\n      <td>5134.3</td>\n      <td>11.4</td>\n      <td>5.6</td>\n    </tr>\n    <tr>\n      <th>25</th>\n      <td>1973</td>\n      <td>1428.5</td>\n      <td>5424.1</td>\n      <td>8.4</td>\n      <td>-0.5</td>\n    </tr>\n    <tr>\n      <th>26</th>\n      <td>1974</td>\n      <td>1548.8</td>\n      <td>5396.0</td>\n      <td>9.0</td>\n      <td>-0.2</td>\n    </tr>\n    <tr>\n      <th>27</th>\n      <td>1975</td>\n      <td>1688.9</td>\n      <td>5385.4</td>\n      <td>11.2</td>\n      <td>5.4</td>\n    </tr>\n    <tr>\n      <th>28</th>\n      <td>1976</td>\n      <td>1877.6</td>\n      <td>5675.4</td>\n      <td>11.1</td>\n      <td>4.6</td>\n    </tr>\n    <tr>\n      <th>29</th>\n      <td>1977</td>\n      <td>2086.0</td>\n      <td>5937.0</td>\n      <td>13.0</td>\n      <td>5.5</td>\n    </tr>\n    <tr>\n      <th>...</th>\n      <td>...</td>\n      <td>...</td>\n      <td>...</td>\n      <td>...</td>\n      <td>...</td>\n    </tr>\n    <tr>\n      <th>39</th>\n      <td>1987</td>\n      <td>4870.2</td>\n      <td>8132.6</td>\n      <td>7.9</td>\n      <td>4.2</td>\n    </tr>\n    <tr>\n      <th>40</th>\n      <td>1988</td>\n      <td>5252.6</td>\n      <td>8474.5</td>\n      <td>7.7</td>\n      <td>3.7</td>\n    </tr>\n    <tr>\n      <th>41</th>\n      <td>1989</td>\n      <td>5657.7</td>\n      <td>8786.4</td>\n      <td>5.7</td>\n      <td>1.9</td>\n    </tr>\n    <tr>\n      <th>42</th>\n      <td>1990</td>\n      <td>5979.6</td>\n      <td>8955.0</td>\n      <td>3.3</td>\n      <td>-0.1</td>\n    </tr>\n    <tr>\n      <th>43</th>\n      <td>1991</td>\n      <td>6174.0</td>\n      <td>8948.4</td>\n      <td>5.9</td>\n      <td>3.5</td>\n    </tr>\n    <tr>\n      <th>44</th>\n      <td>1992</td>\n      <td>6539.3</td>\n      <td>9266.6</td>\n      <td>5.2</td>\n      <td>2.8</td>\n    </tr>\n    <tr>\n      <th>45</th>\n      <td>1993</td>\n      <td>6878.7</td>\n      <td>9521.0</td>\n      <td>6.3</td>\n      <td>4.0</td>\n    </tr>\n    <tr>\n      <th>46</th>\n      <td>1994</td>\n      <td>7308.8</td>\n      <td>9905.4</td>\n      <td>4.8</td>\n      <td>2.7</td>\n    </tr>\n    <tr>\n      <th>47</th>\n      <td>1995</td>\n      <td>7664.1</td>\n      <td>10174.8</td>\n      <td>5.7</td>\n      <td>3.8</td>\n    </tr>\n    <tr>\n      <th>48</th>\n      <td>1996</td>\n      <td>8100.2</td>\n      <td>10561.0</td>\n      <td>6.2</td>\n      <td>4.4</td>\n    </tr>\n    <tr>\n      <th>49</th>\n      <td>1997</td>\n      <td>8608.5</td>\n      <td>11034.9</td>\n      <td>5.7</td>\n      <td>4.5</td>\n    </tr>\n    <tr>\n      <th>50</th>\n      <td>1998</td>\n      <td>9089.2</td>\n      <td>11525.9</td>\n      <td>6.3</td>\n      <td>4.8</td>\n    </tr>\n    <tr>\n      <th>51</th>\n      <td>1999</td>\n      <td>9660.6</td>\n      <td>12065.9</td>\n      <td>6.5</td>\n      <td>4.1</td>\n    </tr>\n    <tr>\n      <th>52</th>\n      <td>2000</td>\n      <td>10284.8</td>\n      <td>12559.7</td>\n      <td>3.2</td>\n      <td>1.0</td>\n    </tr>\n    <tr>\n      <th>53</th>\n      <td>2001</td>\n      <td>10621.8</td>\n      <td>12682.2</td>\n      <td>3.4</td>\n      <td>1.7</td>\n    </tr>\n    <tr>\n      <th>54</th>\n      <td>2002</td>\n      <td>10977.5</td>\n      <td>12908.8</td>\n      <td>4.8</td>\n      <td>2.9</td>\n    </tr>\n    <tr>\n      <th>55</th>\n      <td>2003</td>\n      <td>11510.7</td>\n      <td>13271.1</td>\n      <td>6.6</td>\n      <td>3.8</td>\n    </tr>\n    <tr>\n      <th>56</th>\n      <td>2004</td>\n      <td>12274.9</td>\n      <td>13773.5</td>\n      <td>6.7</td>\n      <td>3.5</td>\n    </tr>\n    <tr>\n      <th>57</th>\n      <td>2005</td>\n      <td>13093.7</td>\n      <td>14234.2</td>\n      <td>6.0</td>\n      <td>2.9</td>\n    </tr>\n    <tr>\n      <th>58</th>\n      <td>2006</td>\n      <td>13855.9</td>\n      <td>14613.8</td>\n      <td>4.6</td>\n      <td>1.9</td>\n    </tr>\n    <tr>\n      <th>59</th>\n      <td>2007</td>\n      <td>14477.6</td>\n      <td>14873.7</td>\n      <td>1.8</td>\n      <td>-0.1</td>\n    </tr>\n    <tr>\n      <th>60</th>\n      <td>2008</td>\n      <td>14718.6</td>\n      <td>14830.4</td>\n      <td>-1.8</td>\n      <td>-2.5</td>\n    </tr>\n    <tr>\n      <th>61</th>\n      <td>2009</td>\n      <td>14418.7</td>\n      <td>14418.7</td>\n      <td>3.8</td>\n      <td>2.6</td>\n    </tr>\n    <tr>\n      <th>62</th>\n      <td>2010</td>\n      <td>14964.4</td>\n      <td>14783.8</td>\n      <td>3.7</td>\n      <td>1.6</td>\n    </tr>\n    <tr>\n      <th>63</th>\n      <td>2011</td>\n      <td>15517.9</td>\n      <td>15020.6</td>\n      <td>4.2</td>\n      <td>2.2</td>\n    </tr>\n    <tr>\n      <th>64</th>\n      <td>2012</td>\n      <td>16155.3</td>\n      <td>15354.6</td>\n      <td>3.6</td>\n      <td>1.8</td>\n    </tr>\n    <tr>\n      <th>65</th>\n      <td>2013</td>\n      <td>16691.5</td>\n      <td>15612.2</td>\n      <td>4.4</td>\n      <td>2.5</td>\n    </tr>\n    <tr>\n      <th>66</th>\n      <td>2014</td>\n      <td>17427.6</td>\n      <td>16013.3</td>\n      <td>4.0</td>\n      <td>2.9</td>\n    </tr>\n    <tr>\n      <th>67</th>\n      <td>2015</td>\n      <td>18120.7</td>\n      <td>16471.5</td>\n      <td>2.7</td>\n      <td>1.6</td>\n    </tr>\n    <tr>\n      <th>68</th>\n      <td>2016</td>\n      <td>18624.5</td>\n      <td>16716.2</td>\n      <td>4.2</td>\n      <td>2.2</td>\n    </tr>\n  </tbody>\n</table>\n<p>69 rows \u00d7 5 columns</p>\n</div>"
                    },
                    "metadata": {}
                }
            ]
        },
        {
            "metadata": {},
            "cell_type": "markdown",
            "source": "Use the method <code>head()</code> to display the first five rows of the GDP data, then take a screen-shot."
        },
        {
            "metadata": {},
            "cell_type": "code",
            "source": "pd.read_csv(links[\"GDP\"]).head()",
            "execution_count": 13,
            "outputs": [
                {
                    "output_type": "execute_result",
                    "execution_count": 13,
                    "data": {
                        "text/plain": "   date  level-current  level-chained  change-current  change-chained\n0  1948          274.8         2020.0            -0.7            -0.6\n1  1949          272.8         2008.9            10.0             8.7\n2  1950          300.2         2184.0            15.7             8.0\n3  1951          347.3         2360.0             5.9             4.1\n4  1952          367.7         2456.1             6.0             4.7",
                        "text/html": "<div>\n<style scoped>\n    .dataframe tbody tr th:only-of-type {\n        vertical-align: middle;\n    }\n\n    .dataframe tbody tr th {\n        vertical-align: top;\n    }\n\n    .dataframe thead th {\n        text-align: right;\n    }\n</style>\n<table border=\"1\" class=\"dataframe\">\n  <thead>\n    <tr style=\"text-align: right;\">\n      <th></th>\n      <th>date</th>\n      <th>level-current</th>\n      <th>level-chained</th>\n      <th>change-current</th>\n      <th>change-chained</th>\n    </tr>\n  </thead>\n  <tbody>\n    <tr>\n      <th>0</th>\n      <td>1948</td>\n      <td>274.8</td>\n      <td>2020.0</td>\n      <td>-0.7</td>\n      <td>-0.6</td>\n    </tr>\n    <tr>\n      <th>1</th>\n      <td>1949</td>\n      <td>272.8</td>\n      <td>2008.9</td>\n      <td>10.0</td>\n      <td>8.7</td>\n    </tr>\n    <tr>\n      <th>2</th>\n      <td>1950</td>\n      <td>300.2</td>\n      <td>2184.0</td>\n      <td>15.7</td>\n      <td>8.0</td>\n    </tr>\n    <tr>\n      <th>3</th>\n      <td>1951</td>\n      <td>347.3</td>\n      <td>2360.0</td>\n      <td>5.9</td>\n      <td>4.1</td>\n    </tr>\n    <tr>\n      <th>4</th>\n      <td>1952</td>\n      <td>367.7</td>\n      <td>2456.1</td>\n      <td>6.0</td>\n      <td>4.7</td>\n    </tr>\n  </tbody>\n</table>\n</div>"
                    },
                    "metadata": {}
                }
            ]
        },
        {
            "metadata": {},
            "cell_type": "markdown",
            "source": "<h3 id=\"Section_2\"> Question 2: Create a dataframe that contains the unemployment data. Display the first five rows of the dataframe. </h3>"
        },
        {
            "metadata": {},
            "cell_type": "markdown",
            "source": "Use the dictionary <code>links</code> and the function <code>pd.read_csv</code> to create a Pandas dataframes that contains the unemployment data."
        },
        {
            "metadata": {
                "scrolled": false
            },
            "cell_type": "code",
            "source": "ds_unemp=pd.read_csv(links[\"unemployment\"])",
            "execution_count": 36,
            "outputs": []
        },
        {
            "metadata": {},
            "cell_type": "markdown",
            "source": "Use the method <code>head()</code> to display the first five rows of the GDP data, then take a screen-shot."
        },
        {
            "metadata": {},
            "cell_type": "code",
            "source": "pd.read_csv(links[\"unemployment\"]).head()",
            "execution_count": 16,
            "outputs": [
                {
                    "output_type": "execute_result",
                    "execution_count": 16,
                    "data": {
                        "text/plain": "   date  unemployment\n0  1948      3.750000\n1  1949      6.050000\n2  1950      5.208333\n3  1951      3.283333\n4  1952      3.025000",
                        "text/html": "<div>\n<style scoped>\n    .dataframe tbody tr th:only-of-type {\n        vertical-align: middle;\n    }\n\n    .dataframe tbody tr th {\n        vertical-align: top;\n    }\n\n    .dataframe thead th {\n        text-align: right;\n    }\n</style>\n<table border=\"1\" class=\"dataframe\">\n  <thead>\n    <tr style=\"text-align: right;\">\n      <th></th>\n      <th>date</th>\n      <th>unemployment</th>\n    </tr>\n  </thead>\n  <tbody>\n    <tr>\n      <th>0</th>\n      <td>1948</td>\n      <td>3.750000</td>\n    </tr>\n    <tr>\n      <th>1</th>\n      <td>1949</td>\n      <td>6.050000</td>\n    </tr>\n    <tr>\n      <th>2</th>\n      <td>1950</td>\n      <td>5.208333</td>\n    </tr>\n    <tr>\n      <th>3</th>\n      <td>1951</td>\n      <td>3.283333</td>\n    </tr>\n    <tr>\n      <th>4</th>\n      <td>1952</td>\n      <td>3.025000</td>\n    </tr>\n  </tbody>\n</table>\n</div>"
                    },
                    "metadata": {}
                }
            ]
        },
        {
            "metadata": {},
            "cell_type": "markdown",
            "source": "<h3 id=\"Section_3\">Question 3: Display a dataframe where unemployment was greater than 8.5%. Take a screen-shot.</h3>"
        },
        {
            "metadata": {},
            "cell_type": "code",
            "source": "ds_unemp8=ds_unemp[ds_unemp['unemployment']>8.5]\nds_unemp8",
            "execution_count": 42,
            "outputs": [
                {
                    "output_type": "execute_result",
                    "execution_count": 42,
                    "data": {
                        "text/plain": "    date  unemployment\n34  1982      9.708333\n35  1983      9.600000\n61  2009      9.283333\n62  2010      9.608333\n63  2011      8.933333",
                        "text/html": "<div>\n<style scoped>\n    .dataframe tbody tr th:only-of-type {\n        vertical-align: middle;\n    }\n\n    .dataframe tbody tr th {\n        vertical-align: top;\n    }\n\n    .dataframe thead th {\n        text-align: right;\n    }\n</style>\n<table border=\"1\" class=\"dataframe\">\n  <thead>\n    <tr style=\"text-align: right;\">\n      <th></th>\n      <th>date</th>\n      <th>unemployment</th>\n    </tr>\n  </thead>\n  <tbody>\n    <tr>\n      <th>34</th>\n      <td>1982</td>\n      <td>9.708333</td>\n    </tr>\n    <tr>\n      <th>35</th>\n      <td>1983</td>\n      <td>9.600000</td>\n    </tr>\n    <tr>\n      <th>61</th>\n      <td>2009</td>\n      <td>9.283333</td>\n    </tr>\n    <tr>\n      <th>62</th>\n      <td>2010</td>\n      <td>9.608333</td>\n    </tr>\n    <tr>\n      <th>63</th>\n      <td>2011</td>\n      <td>8.933333</td>\n    </tr>\n  </tbody>\n</table>\n</div>"
                    },
                    "metadata": {}
                }
            ]
        },
        {
            "metadata": {},
            "cell_type": "markdown",
            "source": "<h3 id=\"Section_4\">Question 4: Use the function make_dashboard to make a dashboard</h3>"
        },
        {
            "metadata": {},
            "cell_type": "markdown",
            "source": "In this section, you will call the function  <code>make_dashboard</code> , to produce a dashboard. We will use the convention of giving each variable the same name as the function parameter."
        },
        {
            "metadata": {},
            "cell_type": "markdown",
            "source": "Create a new dataframe with the column <code>'date'</code> called <code>x</code> from the dataframe that contains the GDP data."
        },
        {
            "metadata": {},
            "cell_type": "code",
            "source": "x = pd.DataFrame(pd.read_csv(links['GDP']), columns=['date'])\nx.head()",
            "execution_count": 43,
            "outputs": [
                {
                    "output_type": "execute_result",
                    "execution_count": 43,
                    "data": {
                        "text/plain": "   date\n0  1948\n1  1949\n2  1950\n3  1951\n4  1952",
                        "text/html": "<div>\n<style scoped>\n    .dataframe tbody tr th:only-of-type {\n        vertical-align: middle;\n    }\n\n    .dataframe tbody tr th {\n        vertical-align: top;\n    }\n\n    .dataframe thead th {\n        text-align: right;\n    }\n</style>\n<table border=\"1\" class=\"dataframe\">\n  <thead>\n    <tr style=\"text-align: right;\">\n      <th></th>\n      <th>date</th>\n    </tr>\n  </thead>\n  <tbody>\n    <tr>\n      <th>0</th>\n      <td>1948</td>\n    </tr>\n    <tr>\n      <th>1</th>\n      <td>1949</td>\n    </tr>\n    <tr>\n      <th>2</th>\n      <td>1950</td>\n    </tr>\n    <tr>\n      <th>3</th>\n      <td>1951</td>\n    </tr>\n    <tr>\n      <th>4</th>\n      <td>1952</td>\n    </tr>\n  </tbody>\n</table>\n</div>"
                    },
                    "metadata": {}
                }
            ]
        },
        {
            "metadata": {},
            "cell_type": "markdown",
            "source": "Create a new dataframe with the column <code>'change-current' </code> called <code>gdp_change</code>  from the dataframe that contains the GDP data."
        },
        {
            "metadata": {},
            "cell_type": "code",
            "source": "gdp_change = pd.DataFrame(pd.read_csv(links['GDP']), columns=['change-current'])\ngdp_change.head()",
            "execution_count": 44,
            "outputs": [
                {
                    "output_type": "execute_result",
                    "execution_count": 44,
                    "data": {
                        "text/plain": "   change-current\n0            -0.7\n1            10.0\n2            15.7\n3             5.9\n4             6.0",
                        "text/html": "<div>\n<style scoped>\n    .dataframe tbody tr th:only-of-type {\n        vertical-align: middle;\n    }\n\n    .dataframe tbody tr th {\n        vertical-align: top;\n    }\n\n    .dataframe thead th {\n        text-align: right;\n    }\n</style>\n<table border=\"1\" class=\"dataframe\">\n  <thead>\n    <tr style=\"text-align: right;\">\n      <th></th>\n      <th>change-current</th>\n    </tr>\n  </thead>\n  <tbody>\n    <tr>\n      <th>0</th>\n      <td>-0.7</td>\n    </tr>\n    <tr>\n      <th>1</th>\n      <td>10.0</td>\n    </tr>\n    <tr>\n      <th>2</th>\n      <td>15.7</td>\n    </tr>\n    <tr>\n      <th>3</th>\n      <td>5.9</td>\n    </tr>\n    <tr>\n      <th>4</th>\n      <td>6.0</td>\n    </tr>\n  </tbody>\n</table>\n</div>"
                    },
                    "metadata": {}
                }
            ]
        },
        {
            "metadata": {},
            "cell_type": "markdown",
            "source": "Create a new dataframe with the column <code>'unemployment' </code> called <code>unemployment</code>  from the dataframe that contains the  unemployment data."
        },
        {
            "metadata": {},
            "cell_type": "code",
            "source": "unemployment = pd.DataFrame(pd.read_csv(links['unemployment']), columns=['unemployment'])\nunemployment.head()",
            "execution_count": 46,
            "outputs": [
                {
                    "output_type": "execute_result",
                    "execution_count": 46,
                    "data": {
                        "text/plain": "   unemployment\n0      3.750000\n1      6.050000\n2      5.208333\n3      3.283333\n4      3.025000",
                        "text/html": "<div>\n<style scoped>\n    .dataframe tbody tr th:only-of-type {\n        vertical-align: middle;\n    }\n\n    .dataframe tbody tr th {\n        vertical-align: top;\n    }\n\n    .dataframe thead th {\n        text-align: right;\n    }\n</style>\n<table border=\"1\" class=\"dataframe\">\n  <thead>\n    <tr style=\"text-align: right;\">\n      <th></th>\n      <th>unemployment</th>\n    </tr>\n  </thead>\n  <tbody>\n    <tr>\n      <th>0</th>\n      <td>3.750000</td>\n    </tr>\n    <tr>\n      <th>1</th>\n      <td>6.050000</td>\n    </tr>\n    <tr>\n      <th>2</th>\n      <td>5.208333</td>\n    </tr>\n    <tr>\n      <th>3</th>\n      <td>3.283333</td>\n    </tr>\n    <tr>\n      <th>4</th>\n      <td>3.025000</td>\n    </tr>\n  </tbody>\n</table>\n</div>"
                    },
                    "metadata": {}
                }
            ]
        },
        {
            "metadata": {},
            "cell_type": "markdown",
            "source": "Give your dashboard a string title, and assign it to the variable <code>title</code>"
        },
        {
            "metadata": {},
            "cell_type": "code",
            "source": "title = \"Relational study of unemployment and GDP\"",
            "execution_count": 48,
            "outputs": []
        },
        {
            "metadata": {},
            "cell_type": "markdown",
            "source": "Finally, the function <code>make_dashboard</code> will output an <code>.html</code> in your direictory, just like a <code>csv</code> file. The name of the file is <code>\"index.html\"</code> and it will be stored in the varable  <code>file_name</code>."
        },
        {
            "metadata": {},
            "cell_type": "code",
            "source": "file_name = \"index.html\"",
            "execution_count": 49,
            "outputs": []
        },
        {
            "metadata": {},
            "cell_type": "markdown",
            "source": "Call the function <code>make_dashboard</code> , to produce a dashboard.  Assign the parameter values accordingly take a the <b>, take a screen shot of the dashboard and submit it</b>."
        },
        {
            "metadata": {},
            "cell_type": "code",
            "source": "make_dashboard(x=x, gdp_change=gdp_change, unemployment=unemployment, title=title, file_name=file_name)",
            "execution_count": 50,
            "outputs": [
                {
                    "output_type": "display_data",
                    "data": {
                        "text/html": "\n\n\n\n\n\n  <div class=\"bk-root\" id=\"46294747-1138-43ff-a25a-6c38b006eccf\" data-root-id=\"1004\"></div>\n"
                    },
                    "metadata": {}
                },
                {
                    "output_type": "display_data",
                    "data": {
                        "application/javascript": "(function(root) {\n  function embed_document(root) {\n    \n  var docs_json = {\"a05d6410-5def-4f34-939f-7ec2e76a64df\":{\"roots\":{\"references\":[{\"attributes\":{\"below\":[{\"id\":\"1014\",\"type\":\"LinearAxis\"}],\"left\":[{\"id\":\"1019\",\"type\":\"LinearAxis\"}],\"renderers\":[{\"id\":\"1014\",\"type\":\"LinearAxis\"},{\"id\":\"1018\",\"type\":\"Grid\"},{\"id\":\"1019\",\"type\":\"LinearAxis\"},{\"id\":\"1023\",\"type\":\"Grid\"},{\"id\":\"1032\",\"type\":\"BoxAnnotation\"},{\"id\":\"1050\",\"type\":\"Legend\"},{\"id\":\"1042\",\"type\":\"GlyphRenderer\"},{\"id\":\"1055\",\"type\":\"GlyphRenderer\"}],\"title\":{\"id\":\"1003\",\"type\":\"Title\"},\"toolbar\":{\"id\":\"1030\",\"type\":\"Toolbar\"},\"x_range\":{\"id\":\"1006\",\"type\":\"DataRange1d\"},\"x_scale\":{\"id\":\"1010\",\"type\":\"LinearScale\"},\"y_range\":{\"id\":\"1008\",\"type\":\"DataRange1d\"},\"y_scale\":{\"id\":\"1012\",\"type\":\"LinearScale\"}},\"id\":\"1004\",\"subtype\":\"Figure\",\"type\":\"Plot\"},{\"attributes\":{\"active_drag\":\"auto\",\"active_inspect\":\"auto\",\"active_multi\":null,\"active_scroll\":\"auto\",\"active_tap\":\"auto\",\"tools\":[{\"id\":\"1024\",\"type\":\"PanTool\"},{\"id\":\"1025\",\"type\":\"WheelZoomTool\"},{\"id\":\"1026\",\"type\":\"BoxZoomTool\"},{\"id\":\"1027\",\"type\":\"SaveTool\"},{\"id\":\"1028\",\"type\":\"ResetTool\"},{\"id\":\"1029\",\"type\":\"HelpTool\"}]},\"id\":\"1030\",\"type\":\"Toolbar\"},{\"attributes\":{\"bottom_units\":\"screen\",\"fill_alpha\":{\"value\":0.5},\"fill_color\":{\"value\":\"lightgrey\"},\"left_units\":\"screen\",\"level\":\"overlay\",\"line_alpha\":{\"value\":1.0},\"line_color\":{\"value\":\"black\"},\"line_dash\":[4,4],\"line_width\":{\"value\":2},\"plot\":null,\"render_mode\":\"css\",\"right_units\":\"screen\",\"top_units\":\"screen\"},\"id\":\"1032\",\"type\":\"BoxAnnotation\"},{\"attributes\":{\"label\":{\"value\":\"% GDP change\"},\"renderers\":[{\"id\":\"1042\",\"type\":\"GlyphRenderer\"}]},\"id\":\"1051\",\"type\":\"LegendItem\"},{\"attributes\":{\"line_alpha\":0.1,\"line_color\":\"#1f77b4\",\"line_width\":4,\"x\":{\"field\":\"x\"},\"y\":{\"field\":\"y\"}},\"id\":\"1041\",\"type\":\"Line\"},{\"attributes\":{},\"id\":\"1015\",\"type\":\"BasicTicker\"},{\"attributes\":{\"data_source\":{\"id\":\"1039\",\"type\":\"ColumnDataSource\"},\"glyph\":{\"id\":\"1040\",\"type\":\"Line\"},\"hover_glyph\":null,\"muted_glyph\":null,\"nonselection_glyph\":{\"id\":\"1041\",\"type\":\"Line\"},\"selection_glyph\":null,\"view\":{\"id\":\"1043\",\"type\":\"CDSView\"}},\"id\":\"1042\",\"type\":\"GlyphRenderer\"},{\"attributes\":{\"source\":{\"id\":\"1039\",\"type\":\"ColumnDataSource\"}},\"id\":\"1043\",\"type\":\"CDSView\"},{\"attributes\":{\"callback\":null},\"id\":\"1006\",\"type\":\"DataRange1d\"},{\"attributes\":{},\"id\":\"1046\",\"type\":\"BasicTickFormatter\"},{\"attributes\":{\"plot\":null,\"text\":\"Relational study of unemployment and GDP\"},\"id\":\"1003\",\"type\":\"Title\"},{\"attributes\":{\"items\":[{\"id\":\"1051\",\"type\":\"LegendItem\"},{\"id\":\"1065\",\"type\":\"LegendItem\"}],\"plot\":{\"id\":\"1004\",\"subtype\":\"Figure\",\"type\":\"Plot\"}},\"id\":\"1050\",\"type\":\"Legend\"},{\"attributes\":{},\"id\":\"1048\",\"type\":\"BasicTickFormatter\"},{\"attributes\":{},\"id\":\"1012\",\"type\":\"LinearScale\"},{\"attributes\":{\"callback\":null,\"data\":{\"x\":[1948,1949,1950,1951,1952,1953,1954,1955,1956,1957,1958,1959,1960,1961,1962,1963,1964,1965,1966,1967,1968,1969,1970,1971,1972,1973,1974,1975,1976,1977,1978,1979,1980,1981,1982,1983,1984,1985,1986,1987,1988,1989,1990,1991,1992,1993,1994,1995,1996,1997,1998,1999,2000,2001,2002,2003,2004,2005,2006,2007,2008,2009,2010,2011,2012,2013,2014,2015,2016],\"y\":{\"__ndarray__\":\"AAAAAAAADkAzMzMzMzMYQFVVVVVV1RRARURERERECkA0MzMzMzMIQGdmZmZmZgdA3d3d3d1dFkB4d3d3d3cRQAAAAAAAgBBAMzMzMzMzEUDd3d3d3V0bQM3MzMzMzBVArKqqqqoqFkBERERERMQaQEVERERERBZAEhERERGRFkAiIiIiIqIUQImIiIiICBJAVVVVVVVVDkC5u7u7u7sOQHd3d3d3dwxA7+7u7u7uC0Dv7u7u7u4TQM3MzMzMzBdAZ2ZmZmZmFkDu7u7u7m4TQBIRERERkRZAMzMzMzPzIEDLzMzMzMweQDUzMzMzMxxAREREREREGEBnZmZmZmYXQDUzMzMzsxxAeHd3d3d3HkCqqqqqqmojQDMzMzMzMyNAiYiIiIgIHkBERERERMQcQAAAAAAAABxANTMzMzOzGEB3d3d3d/cVQIiIiIiICBVAd3d3d3d3FkBlZmZmZmYbQHh3d3d39x1AISIiIiKiG0BnZmZmZmYYQN/d3d3dXRZAIyIiIiKiFUBERERERMQTQAAAAAAAABJA393d3d3dEEC5u7u7u7sPQHd3d3d39xJAIyIiIiIiF0B4d3d3d/cXQKyqqqqqKhZAVVVVVVVVFEDv7u7u7m4SQHh3d3d3dxJAMzMzMzMzF0AREREREZEiQHd3d3d3NyNA3t3d3d3dIUBnZmZmZiYgQO/u7u7ubh1AIyIiIiKiGECamZmZmRkVQAAAAAAAgBNA\",\"dtype\":\"float64\",\"shape\":[69]}},\"selected\":{\"id\":\"1074\",\"type\":\"Selection\"},\"selection_policy\":{\"id\":\"1075\",\"type\":\"UnionRenderers\"}},\"id\":\"1052\",\"type\":\"ColumnDataSource\"},{\"attributes\":{\"callback\":null},\"id\":\"1008\",\"type\":\"DataRange1d\"},{\"attributes\":{\"plot\":{\"id\":\"1004\",\"subtype\":\"Figure\",\"type\":\"Plot\"},\"ticker\":{\"id\":\"1015\",\"type\":\"BasicTicker\"}},\"id\":\"1018\",\"type\":\"Grid\"},{\"attributes\":{\"callback\":null,\"data\":{\"x\":[1948,1949,1950,1951,1952,1953,1954,1955,1956,1957,1958,1959,1960,1961,1962,1963,1964,1965,1966,1967,1968,1969,1970,1971,1972,1973,1974,1975,1976,1977,1978,1979,1980,1981,1982,1983,1984,1985,1986,1987,1988,1989,1990,1991,1992,1993,1994,1995,1996,1997,1998,1999,2000,2001,2002,2003,2004,2005,2006,2007,2008,2009,2010,2011,2012,2013,2014,2015,2016],\"y\":{\"__ndarray__\":\"ZmZmZmZm5r8AAAAAAAAkQGZmZmZmZi9AmpmZmZmZF0AAAAAAAAAYQDMzMzMzM9M/zczMzMzMIUBmZmZmZmYWQAAAAAAAABZAAAAAAAAA+D/NzMzMzMwgQAAAAAAAABBAmpmZmZmZDUCamZmZmZkdQGZmZmZmZhZAmpmZmZmZHUDNzMzMzMwgQDMzMzMzMyNAzczMzMzMFkDNzMzMzMwiQGZmZmZmZiBAAAAAAAAAFkAAAAAAAAAhQJqZmZmZmSNAzczMzMzMJkDNzMzMzMwgQAAAAAAAACJAZmZmZmZmJkAzMzMzMzMmQAAAAAAAACpAZmZmZmZmJ0CamZmZmZkhQGZmZmZmZihAMzMzMzMzEUBmZmZmZmYhQDMzMzMzMyZAAAAAAAAAHkAAAAAAAAAWQAAAAAAAABhAmpmZmZmZH0DNzMzMzMweQM3MzMzMzBZAZmZmZmZmCkCamZmZmZkXQM3MzMzMzBRAMzMzMzMzGUAzMzMzMzMTQM3MzMzMzBZAzczMzMzMGEDNzMzMzMwWQDMzMzMzMxlAAAAAAAAAGkCamZmZmZkJQDMzMzMzMwtAMzMzMzMzE0BmZmZmZmYaQM3MzMzMzBpAAAAAAAAAGEBmZmZmZmYSQM3MzMzMzPw/zczMzMzM/L9mZmZmZmYOQJqZmZmZmQ1AzczMzMzMEEDNzMzMzMwMQJqZmZmZmRFAAAAAAAAAEECamZmZmZkFQM3MzMzMzBBA\",\"dtype\":\"float64\",\"shape\":[69]}},\"selected\":{\"id\":\"1063\",\"type\":\"Selection\"},\"selection_policy\":{\"id\":\"1064\",\"type\":\"UnionRenderers\"}},\"id\":\"1039\",\"type\":\"ColumnDataSource\"},{\"attributes\":{\"line_color\":\"#1f77b4\",\"line_width\":4,\"x\":{\"field\":\"x\"},\"y\":{\"field\":\"y\"}},\"id\":\"1053\",\"type\":\"Line\"},{\"attributes\":{\"axis_label\":\"%\",\"formatter\":{\"id\":\"1048\",\"type\":\"BasicTickFormatter\"},\"plot\":{\"id\":\"1004\",\"subtype\":\"Figure\",\"type\":\"Plot\"},\"ticker\":{\"id\":\"1020\",\"type\":\"BasicTicker\"}},\"id\":\"1019\",\"type\":\"LinearAxis\"},{\"attributes\":{\"line_alpha\":0.1,\"line_color\":\"#1f77b4\",\"line_width\":4,\"x\":{\"field\":\"x\"},\"y\":{\"field\":\"y\"}},\"id\":\"1054\",\"type\":\"Line\"},{\"attributes\":{},\"id\":\"1063\",\"type\":\"Selection\"},{\"attributes\":{\"data_source\":{\"id\":\"1052\",\"type\":\"ColumnDataSource\"},\"glyph\":{\"id\":\"1053\",\"type\":\"Line\"},\"hover_glyph\":null,\"muted_glyph\":null,\"nonselection_glyph\":{\"id\":\"1054\",\"type\":\"Line\"},\"selection_glyph\":null,\"view\":{\"id\":\"1056\",\"type\":\"CDSView\"}},\"id\":\"1055\",\"type\":\"GlyphRenderer\"},{\"attributes\":{\"axis_label\":\"year\",\"formatter\":{\"id\":\"1046\",\"type\":\"BasicTickFormatter\"},\"plot\":{\"id\":\"1004\",\"subtype\":\"Figure\",\"type\":\"Plot\"},\"ticker\":{\"id\":\"1015\",\"type\":\"BasicTicker\"}},\"id\":\"1014\",\"type\":\"LinearAxis\"},{\"attributes\":{},\"id\":\"1025\",\"type\":\"WheelZoomTool\"},{\"attributes\":{},\"id\":\"1020\",\"type\":\"BasicTicker\"},{\"attributes\":{\"line_color\":\"firebrick\",\"line_width\":4,\"x\":{\"field\":\"x\"},\"y\":{\"field\":\"y\"}},\"id\":\"1040\",\"type\":\"Line\"},{\"attributes\":{\"source\":{\"id\":\"1052\",\"type\":\"ColumnDataSource\"}},\"id\":\"1056\",\"type\":\"CDSView\"},{\"attributes\":{},\"id\":\"1010\",\"type\":\"LinearScale\"},{\"attributes\":{},\"id\":\"1024\",\"type\":\"PanTool\"},{\"attributes\":{},\"id\":\"1064\",\"type\":\"UnionRenderers\"},{\"attributes\":{\"label\":{\"value\":\"% unemployed\"},\"renderers\":[{\"id\":\"1055\",\"type\":\"GlyphRenderer\"}]},\"id\":\"1065\",\"type\":\"LegendItem\"},{\"attributes\":{},\"id\":\"1027\",\"type\":\"SaveTool\"},{\"attributes\":{\"dimension\":1,\"plot\":{\"id\":\"1004\",\"subtype\":\"Figure\",\"type\":\"Plot\"},\"ticker\":{\"id\":\"1020\",\"type\":\"BasicTicker\"}},\"id\":\"1023\",\"type\":\"Grid\"},{\"attributes\":{\"overlay\":{\"id\":\"1032\",\"type\":\"BoxAnnotation\"}},\"id\":\"1026\",\"type\":\"BoxZoomTool\"},{\"attributes\":{},\"id\":\"1074\",\"type\":\"Selection\"},{\"attributes\":{},\"id\":\"1028\",\"type\":\"ResetTool\"},{\"attributes\":{},\"id\":\"1075\",\"type\":\"UnionRenderers\"},{\"attributes\":{},\"id\":\"1029\",\"type\":\"HelpTool\"}],\"root_ids\":[\"1004\"]},\"title\":\"Bokeh Application\",\"version\":\"1.0.4\"}};\n  var render_items = [{\"docid\":\"a05d6410-5def-4f34-939f-7ec2e76a64df\",\"roots\":{\"1004\":\"46294747-1138-43ff-a25a-6c38b006eccf\"}}];\n  root.Bokeh.embed.embed_items_notebook(docs_json, render_items);\n\n  }\n  if (root.Bokeh !== undefined) {\n    embed_document(root);\n  } else {\n    var attempts = 0;\n    var timer = setInterval(function(root) {\n      if (root.Bokeh !== undefined) {\n        embed_document(root);\n        clearInterval(timer);\n      }\n      attempts++;\n      if (attempts > 100) {\n        console.log(\"Bokeh: ERROR: Unable to run BokehJS code because BokehJS library is missing\");\n        clearInterval(timer);\n      }\n    }, 10, root)\n  }\n})(window);",
                        "application/vnd.bokehjs_exec.v0+json": ""
                    },
                    "metadata": {
                        "application/vnd.bokehjs_exec.v0+json": {
                            "id": "1004"
                        }
                    }
                }
            ]
        },
        {
            "metadata": {},
            "cell_type": "markdown",
            "source": "<h3 id=\"Section_5\"> <b>(Optional not marked)</b>Save the dashboard on IBM cloud and display it  </h3>"
        },
        {
            "metadata": {},
            "cell_type": "markdown",
            "source": "From the tutorial <i>PROVISIONING AN OBJECT STORAGE INSTANCE ON IBM CLOUD</i> copy the JSON object containing the credentials you created. You\u2019ll want to store everything you see in a credentials variable like the one below (obviously, replace the placeholder values with your own). Take special note of your <code>access_key_id</code> and <code>secret_access_key</code>. <b>Do not delete <code># @hidden_cell </code> as this will not allow people to see your credentials when you share your notebook. </b>"
        },
        {
            "metadata": {},
            "cell_type": "markdown",
            "source": "<code>\ncredentials = {<br>\n &nbsp; \"apikey\": \"anjanapikey\",<br>\n &nbsp; \"cos_hmac_keys\": {<br>\n &nbsp;  \"access_key_id\": \"anjanaccesskeyid\", <br>\n &nbsp;   \"secret_access_key\": \"anjansecretaccesskeyhere\"<br>\n &nbsp; },<br>\n</code>\n<code>\n   &nbsp;\"endpoints\": \"anjanep\",<br>\n &nbsp; \"iam_apikey_description\": \"anjaniamapikeydescription\",<br>\n &nbsp; \"iam_apikey_name\": \"anjaniamapikeyname\",<br>\n &nbsp; \"iam_role_crn\": \"anjaniamapikeyname\",<br>\n &nbsp;  \"iam_serviceid_crn\": \"anjaniamserviceidcrn\",<br>\n &nbsp;\"resource_instance_id\": \"anjanresourceinstanceid\"<br>\n}\n</code>"
        },
        {
            "metadata": {},
            "cell_type": "code",
            "source": "# @hidden_cell\n#\ncredentials = {\n\n   \"apikey\": \"anjanapikey\",\n\n   \"cos_hmac_keys\": {\n\n    \"access_key_id\": \"anjanaccesskeyid\", \n\n     \"secret_access_key\": \"anjansecretaccesskeyhere\"\n\n   },\n\n\n    \"endpoints\": \"https://s3-api.us-geo.objectstorage.softlayer.net\",\n\n   \"iam_apikey_description\": \"anjaniamapikeydescription\",\n\n   \"iam_apikey_name\": \"anjaniamapikeyname\",\n\n   \"iam_role_crn\": \"anjaniamapikeyname\",\n\n    \"iam_serviceid_crn\": \"anjaniamserviceidcrn\",\n\n  \"resource_instance_id\": \"anjanresourceinstanceid\"\n\n}",
            "execution_count": 51,
            "outputs": []
        },
        {
            "metadata": {},
            "cell_type": "markdown",
            "source": "You will need the endpoint make sure the setting are the same as <i> PROVISIONING AN OBJECT STORAGE INSTANCE ON IBM CLOUD </i> assign the name of your bucket to the variable  <code>bucket_name </code> "
        },
        {
            "metadata": {},
            "cell_type": "code",
            "source": "endpoint = 'https://s3-api.us-geo.objectstorage.softlayer.net'",
            "execution_count": 52,
            "outputs": []
        },
        {
            "metadata": {},
            "cell_type": "markdown",
            "source": "From the tutorial <i> PROVISIONING AN OBJECT STORAGE INSTANCE ON IBM CLOUD </i> assign the name of your bucket to the variable  <code>bucket_name </code> "
        },
        {
            "metadata": {},
            "cell_type": "code",
            "source": "bucket_name = \"cloud-object-storage-gs\"",
            "execution_count": 55,
            "outputs": []
        },
        {
            "metadata": {},
            "cell_type": "markdown",
            "source": "We can access IBM Cloud Object Storage with Python useing the <code>boto3</code> library, which we\u2019ll import below:"
        },
        {
            "metadata": {},
            "cell_type": "code",
            "source": "import boto3",
            "execution_count": 56,
            "outputs": []
        },
        {
            "metadata": {},
            "cell_type": "markdown",
            "source": "We can interact with IBM Cloud Object Storage through a <code>boto3</code> resource object."
        },
        {
            "metadata": {},
            "cell_type": "code",
            "source": "resource = boto3.resource(\n    's3',\n    aws_access_key_id = credentials[\"cos_hmac_keys\"]['access_key_id'],\n    aws_secret_access_key = credentials[\"cos_hmac_keys\"][\"secret_access_key\"],\n    endpoint_url = endpoint,\n)",
            "execution_count": 57,
            "outputs": []
        },
        {
            "metadata": {},
            "cell_type": "markdown",
            "source": "We are going to use  <code>open</code> to create a file object. To get the path of the file, you are going to concatenate the name of the file stored in the variable <code>file_name</code>. The directory stored in the variable directory using the <code>+</code> operator and assign it to the variable \n<code>html_path</code>. We will use the function <code>getcwd()</code> to find current the working directory."
        },
        {
            "metadata": {},
            "cell_type": "code",
            "source": "import os\n\ndirectory = os.getcwd()\nhtml_path = directory + \"/\" + file_name",
            "execution_count": 58,
            "outputs": []
        },
        {
            "metadata": {},
            "cell_type": "markdown",
            "source": "Now you must read the html file, use the function <code>f = open(html_path, mode)</code> to create a file object and assign it to the variable <code>f</code>. The parameter <code>file</code> should be the variable <code>html_path</code>, the mode should be <code>\"r\"</code> for read. "
        },
        {
            "metadata": {},
            "cell_type": "code",
            "source": "f = open(html_path, \"r\")",
            "execution_count": 60,
            "outputs": []
        },
        {
            "metadata": {},
            "cell_type": "markdown",
            "source": "To load your dataset into the bucket we will use the method <code>put_object</code>, you must set the parameter name to the name of the bucket, the parameter <code>Key</code> should be the name of the HTML file and the value for the parameter Body  should be set to <code>f.read()</code>."
        },
        {
            "metadata": {},
            "cell_type": "code",
            "source": "# Fill up the parameters in the following function:\nresource.Bucket(name=\"bucket_name\").put_object(Key=\"file_name\", Body=f.read())",
            "execution_count": 62,
            "outputs": [
                {
                    "output_type": "error",
                    "ename": "ClientError",
                    "evalue": "An error occurred (InvalidAccessKeyId) when calling the PutObject operation: The AWS Access Key ID you provided does not exist in our records.",
                    "traceback": [
                        "\u001b[0;31m---------------------------------------------------------------------------\u001b[0m",
                        "\u001b[0;31mClientError\u001b[0m                               Traceback (most recent call last)",
                        "\u001b[0;32m<ipython-input-62-8f593d0aaf28>\u001b[0m in \u001b[0;36m<module>\u001b[0;34m\u001b[0m\n\u001b[1;32m      1\u001b[0m \u001b[0;31m# Fill up the parameters in the following function:\u001b[0m\u001b[0;34m\u001b[0m\u001b[0;34m\u001b[0m\u001b[0;34m\u001b[0m\u001b[0m\n\u001b[0;32m----> 2\u001b[0;31m \u001b[0mresource\u001b[0m\u001b[0;34m.\u001b[0m\u001b[0mBucket\u001b[0m\u001b[0;34m(\u001b[0m\u001b[0mname\u001b[0m\u001b[0;34m=\u001b[0m\u001b[0;34m\"bucket_name\"\u001b[0m\u001b[0;34m)\u001b[0m\u001b[0;34m.\u001b[0m\u001b[0mput_object\u001b[0m\u001b[0;34m(\u001b[0m\u001b[0mKey\u001b[0m\u001b[0;34m=\u001b[0m\u001b[0;34m\"file_name\"\u001b[0m\u001b[0;34m,\u001b[0m \u001b[0mBody\u001b[0m\u001b[0;34m=\u001b[0m\u001b[0mf\u001b[0m\u001b[0;34m.\u001b[0m\u001b[0mread\u001b[0m\u001b[0;34m(\u001b[0m\u001b[0;34m)\u001b[0m\u001b[0;34m)\u001b[0m\u001b[0;34m\u001b[0m\u001b[0;34m\u001b[0m\u001b[0m\n\u001b[0m",
                        "\u001b[0;32m/opt/conda/envs/Python36/lib/python3.6/site-packages/boto3/resources/factory.py\u001b[0m in \u001b[0;36mdo_action\u001b[0;34m(self, *args, **kwargs)\u001b[0m\n\u001b[1;32m    518\u001b[0m             \u001b[0;31m# instance via ``self``.\u001b[0m\u001b[0;34m\u001b[0m\u001b[0;34m\u001b[0m\u001b[0;34m\u001b[0m\u001b[0m\n\u001b[1;32m    519\u001b[0m             \u001b[0;32mdef\u001b[0m \u001b[0mdo_action\u001b[0m\u001b[0;34m(\u001b[0m\u001b[0mself\u001b[0m\u001b[0;34m,\u001b[0m \u001b[0;34m*\u001b[0m\u001b[0margs\u001b[0m\u001b[0;34m,\u001b[0m \u001b[0;34m**\u001b[0m\u001b[0mkwargs\u001b[0m\u001b[0;34m)\u001b[0m\u001b[0;34m:\u001b[0m\u001b[0;34m\u001b[0m\u001b[0;34m\u001b[0m\u001b[0m\n\u001b[0;32m--> 520\u001b[0;31m                 \u001b[0mresponse\u001b[0m \u001b[0;34m=\u001b[0m \u001b[0maction\u001b[0m\u001b[0;34m(\u001b[0m\u001b[0mself\u001b[0m\u001b[0;34m,\u001b[0m \u001b[0;34m*\u001b[0m\u001b[0margs\u001b[0m\u001b[0;34m,\u001b[0m \u001b[0;34m**\u001b[0m\u001b[0mkwargs\u001b[0m\u001b[0;34m)\u001b[0m\u001b[0;34m\u001b[0m\u001b[0;34m\u001b[0m\u001b[0m\n\u001b[0m\u001b[1;32m    521\u001b[0m \u001b[0;34m\u001b[0m\u001b[0m\n\u001b[1;32m    522\u001b[0m                 \u001b[0;32mif\u001b[0m \u001b[0mhasattr\u001b[0m\u001b[0;34m(\u001b[0m\u001b[0mself\u001b[0m\u001b[0;34m,\u001b[0m \u001b[0;34m'load'\u001b[0m\u001b[0;34m)\u001b[0m\u001b[0;34m:\u001b[0m\u001b[0;34m\u001b[0m\u001b[0;34m\u001b[0m\u001b[0m\n",
                        "\u001b[0;32m/opt/conda/envs/Python36/lib/python3.6/site-packages/boto3/resources/action.py\u001b[0m in \u001b[0;36m__call__\u001b[0;34m(self, parent, *args, **kwargs)\u001b[0m\n\u001b[1;32m     81\u001b[0m                     operation_name, params)\n\u001b[1;32m     82\u001b[0m \u001b[0;34m\u001b[0m\u001b[0m\n\u001b[0;32m---> 83\u001b[0;31m         \u001b[0mresponse\u001b[0m \u001b[0;34m=\u001b[0m \u001b[0mgetattr\u001b[0m\u001b[0;34m(\u001b[0m\u001b[0mparent\u001b[0m\u001b[0;34m.\u001b[0m\u001b[0mmeta\u001b[0m\u001b[0;34m.\u001b[0m\u001b[0mclient\u001b[0m\u001b[0;34m,\u001b[0m \u001b[0moperation_name\u001b[0m\u001b[0;34m)\u001b[0m\u001b[0;34m(\u001b[0m\u001b[0;34m**\u001b[0m\u001b[0mparams\u001b[0m\u001b[0;34m)\u001b[0m\u001b[0;34m\u001b[0m\u001b[0;34m\u001b[0m\u001b[0m\n\u001b[0m\u001b[1;32m     84\u001b[0m \u001b[0;34m\u001b[0m\u001b[0m\n\u001b[1;32m     85\u001b[0m         \u001b[0mlogger\u001b[0m\u001b[0;34m.\u001b[0m\u001b[0mdebug\u001b[0m\u001b[0;34m(\u001b[0m\u001b[0;34m'Response: %r'\u001b[0m\u001b[0;34m,\u001b[0m \u001b[0mresponse\u001b[0m\u001b[0;34m)\u001b[0m\u001b[0;34m\u001b[0m\u001b[0;34m\u001b[0m\u001b[0m\n",
                        "\u001b[0;32m/opt/conda/envs/Python36/lib/python3.6/site-packages/botocore/client.py\u001b[0m in \u001b[0;36m_api_call\u001b[0;34m(self, *args, **kwargs)\u001b[0m\n\u001b[1;32m    355\u001b[0m                     \"%s() only accepts keyword arguments.\" % py_operation_name)\n\u001b[1;32m    356\u001b[0m             \u001b[0;31m# The \"self\" in this scope is referring to the BaseClient.\u001b[0m\u001b[0;34m\u001b[0m\u001b[0;34m\u001b[0m\u001b[0;34m\u001b[0m\u001b[0m\n\u001b[0;32m--> 357\u001b[0;31m             \u001b[0;32mreturn\u001b[0m \u001b[0mself\u001b[0m\u001b[0;34m.\u001b[0m\u001b[0m_make_api_call\u001b[0m\u001b[0;34m(\u001b[0m\u001b[0moperation_name\u001b[0m\u001b[0;34m,\u001b[0m \u001b[0mkwargs\u001b[0m\u001b[0;34m)\u001b[0m\u001b[0;34m\u001b[0m\u001b[0;34m\u001b[0m\u001b[0m\n\u001b[0m\u001b[1;32m    358\u001b[0m \u001b[0;34m\u001b[0m\u001b[0m\n\u001b[1;32m    359\u001b[0m         \u001b[0m_api_call\u001b[0m\u001b[0;34m.\u001b[0m\u001b[0m__name__\u001b[0m \u001b[0;34m=\u001b[0m \u001b[0mstr\u001b[0m\u001b[0;34m(\u001b[0m\u001b[0mpy_operation_name\u001b[0m\u001b[0;34m)\u001b[0m\u001b[0;34m\u001b[0m\u001b[0;34m\u001b[0m\u001b[0m\n",
                        "\u001b[0;32m/opt/conda/envs/Python36/lib/python3.6/site-packages/botocore/client.py\u001b[0m in \u001b[0;36m_make_api_call\u001b[0;34m(self, operation_name, api_params)\u001b[0m\n\u001b[1;32m    659\u001b[0m             \u001b[0merror_code\u001b[0m \u001b[0;34m=\u001b[0m \u001b[0mparsed_response\u001b[0m\u001b[0;34m.\u001b[0m\u001b[0mget\u001b[0m\u001b[0;34m(\u001b[0m\u001b[0;34m\"Error\"\u001b[0m\u001b[0;34m,\u001b[0m \u001b[0;34m{\u001b[0m\u001b[0;34m}\u001b[0m\u001b[0;34m)\u001b[0m\u001b[0;34m.\u001b[0m\u001b[0mget\u001b[0m\u001b[0;34m(\u001b[0m\u001b[0;34m\"Code\"\u001b[0m\u001b[0;34m)\u001b[0m\u001b[0;34m\u001b[0m\u001b[0;34m\u001b[0m\u001b[0m\n\u001b[1;32m    660\u001b[0m             \u001b[0merror_class\u001b[0m \u001b[0;34m=\u001b[0m \u001b[0mself\u001b[0m\u001b[0;34m.\u001b[0m\u001b[0mexceptions\u001b[0m\u001b[0;34m.\u001b[0m\u001b[0mfrom_code\u001b[0m\u001b[0;34m(\u001b[0m\u001b[0merror_code\u001b[0m\u001b[0;34m)\u001b[0m\u001b[0;34m\u001b[0m\u001b[0;34m\u001b[0m\u001b[0m\n\u001b[0;32m--> 661\u001b[0;31m             \u001b[0;32mraise\u001b[0m \u001b[0merror_class\u001b[0m\u001b[0;34m(\u001b[0m\u001b[0mparsed_response\u001b[0m\u001b[0;34m,\u001b[0m \u001b[0moperation_name\u001b[0m\u001b[0;34m)\u001b[0m\u001b[0;34m\u001b[0m\u001b[0;34m\u001b[0m\u001b[0m\n\u001b[0m\u001b[1;32m    662\u001b[0m         \u001b[0;32melse\u001b[0m\u001b[0;34m:\u001b[0m\u001b[0;34m\u001b[0m\u001b[0;34m\u001b[0m\u001b[0m\n\u001b[1;32m    663\u001b[0m             \u001b[0;32mreturn\u001b[0m \u001b[0mparsed_response\u001b[0m\u001b[0;34m\u001b[0m\u001b[0;34m\u001b[0m\u001b[0m\n",
                        "\u001b[0;31mClientError\u001b[0m: An error occurred (InvalidAccessKeyId) when calling the PutObject operation: The AWS Access Key ID you provided does not exist in our records."
                    ]
                }
            ]
        },
        {
            "metadata": {},
            "cell_type": "markdown",
            "source": "In the dictionary <code>Params</code> provide the bucket name  as the value for the key <i>'Bucket'</i>. Also for the value of the key <i>'Key'</i> add the name of the <code>html</code> file, both values should be strings."
        },
        {
            "metadata": {},
            "cell_type": "code",
            "source": "# Fill in the value for each key\n Params = {'Bucket':'bucket_name' ,'Key': 'file_name'}",
            "execution_count": 63,
            "outputs": []
        },
        {
            "metadata": {},
            "cell_type": "markdown",
            "source": "The following lines of code will generate a URL to share your dashboard. The URL only last seven days, but don't worry you will get full marks if the URL is visible in your notebook.  "
        },
        {
            "metadata": {},
            "cell_type": "code",
            "source": "import sys\ntime = 7*24*60**2\nclient = boto3.client(\n    's3',\n    aws_access_key_id = credentials[\"cos_hmac_keys\"]['access_key_id'],\n    aws_secret_access_key = credentials[\"cos_hmac_keys\"][\"secret_access_key\"],\n    endpoint_url=endpoint,\n\n)\nurl = client.generate_presigned_url('get_object',Params=Params,ExpiresIn=time)\nprint(url)",
            "execution_count": 64,
            "outputs": [
                {
                    "output_type": "stream",
                    "text": "https://s3-api.us-geo.objectstorage.softlayer.net/bucket_name/file_name?AWSAccessKeyId=anjanaccesskeyid&Signature=GY5nAOy4xo9R3A9dyIW3%2B39keRc%3D&Expires=1596228144\n",
                    "name": "stdout"
                }
            ]
        },
        {
            "metadata": {},
            "cell_type": "markdown",
            "source": "<h2 id=\"Section_5\">  How to submit </h2>"
        },
        {
            "metadata": {},
            "cell_type": "markdown",
            "source": "<p>Once you complete your notebook you will have to share it to be marked. Select the icon on the top right a marked in red in the image below, a dialogue box should open, select the option all&nbsp;content excluding sensitive code cells.</p>\n\n<p><img height=\"440\" width=\"700\" src=\"https://s3-api.us-geo.objectstorage.softlayer.net/cf-courses-data/CognitiveClass/PY0101EN/projects/EdX/ReadMe%20files/share_noteook1.png\" alt=\"share notebook\" /></p>\n<p></p>\n\n<p>You can then share the notebook&nbsp; via a&nbsp; URL by scrolling down as shown in the following image:</p>\n<p style=\"text-align: center;\"> <img height=\"308\" width=\"350\" src=\"https://s3-api.us-geo.objectstorage.softlayer.net/cf-courses-data/CognitiveClass/PY0101EN/projects/EdX/ReadMe%20files/link2.png\"  alt=\"share notebook\" /> </p>"
        },
        {
            "metadata": {},
            "cell_type": "markdown",
            "source": "<hr>\n<p>Copyright &copy; 2019 IBM Developer Skills Network. This notebook and its source code are released under the terms of the <a href=\"https://cognitiveclass.ai/mit-license/\">MIT License</a>.</p>"
        },
        {
            "metadata": {},
            "cell_type": "markdown",
            "source": "<h2>About the Authors:</h2> \n\n<a href=\"https://www.linkedin.com/in/joseph-s-50398b136/\">Joseph Santarcangelo</a> has a PhD in Electrical Engineering, his research focused on using machine learning, signal processing, and computer vision to determine how videos impact human cognition. Joseph has been working for IBM since he completed his PhD.\n<p>\nOther contributors: <a href=\"https://www.linkedin.com/in/yi-leng-yao-84451275/\">Yi leng Yao</a>, <a href=\"www.linkedin.com/in/jiahui-mavis-zhou-a4537814a\">Mavis Zhou</a> \n</p>"
        },
        {
            "metadata": {},
            "cell_type": "markdown",
            "source": "<h2>References :</h2> "
        },
        {
            "metadata": {},
            "cell_type": "markdown",
            "source": "<ul>\n <il>\n     1) <a href=\"https://research.stlouisfed.org/\">Economic Research at the St. Louis Fed </a>:<a href=\"https://fred.stlouisfed.org/series/UNRATE/\"> Civilian Unemployment Rate</a>\n   </il>   \n    <p>\n     <il>\n    2) <a href=\"https://github.com/datasets\">Data Packaged Core Datasets\n       </a>\n   </il> \n    </p>\n    \n</ul>\n</div>"
        }
    ],
    "metadata": {
        "kernelspec": {
            "name": "python3",
            "display_name": "Python 3.6",
            "language": "python"
        },
        "language_info": {
            "name": "python",
            "version": "3.6.9",
            "mimetype": "text/x-python",
            "codemirror_mode": {
                "name": "ipython",
                "version": 3
            },
            "pygments_lexer": "ipython3",
            "nbconvert_exporter": "python",
            "file_extension": ".py"
        }
    },
    "nbformat": 4,
    "nbformat_minor": 2
}